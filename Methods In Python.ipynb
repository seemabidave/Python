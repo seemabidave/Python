{
 "cells": [
  {
   "cell_type": "markdown",
   "metadata": {},
   "source": [
    "### Knowing the differences isn't always required to code basic Python scripts, but once you advance into OOP, the differences can make a big change.\n",
    "\n",
    "### There are 3 types of methods in Python..\n",
    "\n",
    "- Instance Methods \n",
    "    - Very basic and easy methods created in a class refers to the instance variable 'self'\n",
    "    - These methods can access or modify instance as well as class state\n",
    "    - These methods are marked with no decorator\n",
    "    - Through the self parameter, instance methods can freely access attributes and other methods on the same object\n",
    "- Class Methods \n",
    "    - Class methods refers to the class variable 'cls' and returns object of the class\n",
    "    - Class methods are methods which access or modify class state.\n",
    "    - These methods are marked with '@classmethod' decorator\n",
    "    \n",
    "- Static Methods\n",
    "   - This type of method takes neither a self nor a cls parameter.\n",
    "   - But of course it’s free to accept an arbitrary number of other parameters\n",
    "   - These methods are marked with '@staticmethod' decorator\n",
    "    \n",
    "    ### Lets see how they are implemented ....\n",
    "    "
   ]
  },
  {
   "cell_type": "code",
   "execution_count": 4,
   "metadata": {},
   "outputs": [],
   "source": [
    "class Students:\n",
    "    def __init__(self, name, age):   ###Constructor\n",
    "        self.name = name \n",
    "        self.age = age"
   ]
  },
  {
   "cell_type": "code",
   "execution_count": 7,
   "metadata": {},
   "outputs": [
    {
     "name": "stdout",
     "output_type": "stream",
     "text": [
      "Jon\n",
      "18\n"
     ]
    }
   ],
   "source": [
    "student1=Students('Jon',18)\n",
    "print(student1.name)\n",
    "print(student1.age)"
   ]
  },
  {
   "cell_type": "code",
   "execution_count": 76,
   "metadata": {},
   "outputs": [
    {
     "ename": "NameError",
     "evalue": "name 'university' is not defined",
     "output_type": "error",
     "traceback": [
      "\u001b[1;31m---------------------------------------------------------------------------\u001b[0m",
      "\u001b[1;31mNameError\u001b[0m                                 Traceback (most recent call last)",
      "\u001b[1;32m<ipython-input-76-a6e73d127240>\u001b[0m in \u001b[0;36m<module>\u001b[1;34m\u001b[0m\n\u001b[0;32m     11\u001b[0m         \u001b[0mprint\u001b[0m\u001b[1;33m(\u001b[0m\u001b[1;34m\"My university is - \"\u001b[0m\u001b[1;33m,\u001b[0m \u001b[0mself\u001b[0m\u001b[1;33m.\u001b[0m\u001b[0muniversity\u001b[0m\u001b[1;33m)\u001b[0m\u001b[1;33m\u001b[0m\u001b[1;33m\u001b[0m\u001b[0m\n\u001b[0;32m     12\u001b[0m \u001b[1;33m\u001b[0m\u001b[0m\n\u001b[1;32m---> 13\u001b[1;33m \u001b[0mstudent1\u001b[0m\u001b[1;33m=\u001b[0m\u001b[0mStudents\u001b[0m\u001b[1;33m(\u001b[0m\u001b[1;34m'Jon'\u001b[0m\u001b[1;33m,\u001b[0m\u001b[1;36m18\u001b[0m\u001b[1;33m)\u001b[0m\u001b[1;33m\u001b[0m\u001b[1;33m\u001b[0m\u001b[0m\n\u001b[0m\u001b[0;32m     14\u001b[0m \u001b[0mstudent1\u001b[0m\u001b[1;33m.\u001b[0m\u001b[0mdisplay\u001b[0m\u001b[1;33m(\u001b[0m\u001b[1;33m)\u001b[0m                  \u001b[1;31m## instance method should be called with instace of the class\u001b[0m\u001b[1;33m\u001b[0m\u001b[1;33m\u001b[0m\u001b[0m\n\u001b[0;32m     15\u001b[0m \u001b[0mStudents\u001b[0m\u001b[1;33m.\u001b[0m\u001b[0mdisplay\u001b[0m\u001b[1;33m(\u001b[0m\u001b[1;33m)\u001b[0m                  \u001b[1;31m## instance method can not be called with class name\u001b[0m\u001b[1;33m\u001b[0m\u001b[1;33m\u001b[0m\u001b[0m\n",
      "\u001b[1;32m<ipython-input-76-a6e73d127240>\u001b[0m in \u001b[0;36m__init__\u001b[1;34m(self, name, age)\u001b[0m\n\u001b[0;32m      4\u001b[0m         \u001b[0mself\u001b[0m\u001b[1;33m.\u001b[0m\u001b[0mname\u001b[0m \u001b[1;33m=\u001b[0m \u001b[0mname\u001b[0m\u001b[1;33m\u001b[0m\u001b[1;33m\u001b[0m\u001b[0m\n\u001b[0;32m      5\u001b[0m         \u001b[0mself\u001b[0m\u001b[1;33m.\u001b[0m\u001b[0mage\u001b[0m \u001b[1;33m=\u001b[0m \u001b[0mage\u001b[0m\u001b[1;33m\u001b[0m\u001b[1;33m\u001b[0m\u001b[0m\n\u001b[1;32m----> 6\u001b[1;33m         \u001b[0mself\u001b[0m\u001b[1;33m.\u001b[0m\u001b[0muniversity\u001b[0m\u001b[1;33m=\u001b[0m\u001b[0muniversity\u001b[0m\u001b[1;33m\u001b[0m\u001b[1;33m\u001b[0m\u001b[0m\n\u001b[0m\u001b[0;32m      7\u001b[0m \u001b[1;33m\u001b[0m\u001b[0m\n\u001b[0;32m      8\u001b[0m     \u001b[1;32mdef\u001b[0m \u001b[0mdisplay\u001b[0m\u001b[1;33m(\u001b[0m\u001b[0mself\u001b[0m\u001b[1;33m)\u001b[0m\u001b[1;33m:\u001b[0m              \u001b[1;31m##instance method\u001b[0m\u001b[1;33m\u001b[0m\u001b[1;33m\u001b[0m\u001b[0m\n",
      "\u001b[1;31mNameError\u001b[0m: name 'university' is not defined"
     ]
    }
   ],
   "source": [
    "class Students:\n",
    "    university='ABC university'\n",
    "    def __init__(self, name, age):   ###Constructor\n",
    "        self.name = name \n",
    "        self.age = age\n",
    "        self.university=university\n",
    "        \n",
    "    def display(self):              ##instance method\n",
    "        print(\"My Name is - \",self.name)\n",
    "        print(\"My Age is - \",self.age)\n",
    "        print(\"My university is - \", self.university)\n",
    "\n",
    "student1=Students('Jon',18)\n",
    "student1.display()                  ## instance method should be called with instace of the class\n",
    "Students.display()                  ## instance method can not be called with class name"
   ]
  },
  {
   "cell_type": "code",
   "execution_count": 2,
   "metadata": {},
   "outputs": [
    {
     "name": "stdout",
     "output_type": "stream",
     "text": [
      "My Name is -  Jack\n",
      "My Age is -  16\n",
      "I am from  ABC University\n"
     ]
    },
    {
     "ename": "NameError",
     "evalue": "name 'self' is not defined",
     "output_type": "error",
     "traceback": [
      "\u001b[1;31m---------------------------------------------------------------------------\u001b[0m",
      "\u001b[1;31mNameError\u001b[0m                                 Traceback (most recent call last)",
      "\u001b[1;32m<ipython-input-2-20f9eb90198c>\u001b[0m in \u001b[0;36m<module>\u001b[1;34m\u001b[0m\n\u001b[0;32m     17\u001b[0m \u001b[0mstudent3\u001b[0m\u001b[1;33m=\u001b[0m\u001b[0mStudents\u001b[0m\u001b[1;33m(\u001b[0m\u001b[1;34m\"Jack\"\u001b[0m\u001b[1;33m,\u001b[0m\u001b[1;36m16\u001b[0m\u001b[1;33m)\u001b[0m\u001b[1;33m\u001b[0m\u001b[1;33m\u001b[0m\u001b[0m\n\u001b[0;32m     18\u001b[0m \u001b[0mstudent3\u001b[0m\u001b[1;33m.\u001b[0m\u001b[0mdisplay\u001b[0m\u001b[1;33m(\u001b[0m\u001b[1;33m)\u001b[0m\u001b[1;33m\u001b[0m\u001b[1;33m\u001b[0m\u001b[0m\n\u001b[1;32m---> 19\u001b[1;33m \u001b[0mStudents\u001b[0m\u001b[1;33m.\u001b[0m\u001b[0mclassmethods\u001b[0m\u001b[1;33m(\u001b[0m\u001b[1;33m)\u001b[0m\u001b[1;33m\u001b[0m\u001b[1;33m\u001b[0m\u001b[0m\n\u001b[0m",
      "\u001b[1;32m<ipython-input-2-20f9eb90198c>\u001b[0m in \u001b[0;36mclassmethods\u001b[1;34m(cls)\u001b[0m\n\u001b[0;32m     13\u001b[0m     \u001b[1;32mdef\u001b[0m \u001b[0mclassmethods\u001b[0m\u001b[1;33m(\u001b[0m\u001b[0mcls\u001b[0m\u001b[1;33m)\u001b[0m\u001b[1;33m:\u001b[0m                             \u001b[1;31m##class method\u001b[0m\u001b[1;33m\u001b[0m\u001b[1;33m\u001b[0m\u001b[0m\n\u001b[0;32m     14\u001b[0m         \u001b[0mprint\u001b[0m\u001b[1;33m(\u001b[0m\u001b[1;34m\"I am from \"\u001b[0m\u001b[1;33m,\u001b[0m\u001b[0mcls\u001b[0m\u001b[1;33m.\u001b[0m\u001b[0muniversity\u001b[0m\u001b[1;33m)\u001b[0m\u001b[1;33m\u001b[0m\u001b[1;33m\u001b[0m\u001b[0m\n\u001b[1;32m---> 15\u001b[1;33m         \u001b[0mprint\u001b[0m\u001b[1;33m(\u001b[0m\u001b[0mself\u001b[0m\u001b[1;33m.\u001b[0m\u001b[0mname\u001b[0m\u001b[1;33m)\u001b[0m                               \u001b[1;31m## this statement throws an error , see below output\u001b[0m\u001b[1;33m\u001b[0m\u001b[1;33m\u001b[0m\u001b[0m\n\u001b[0m\u001b[0;32m     16\u001b[0m \u001b[1;33m\u001b[0m\u001b[0m\n\u001b[0;32m     17\u001b[0m \u001b[0mstudent3\u001b[0m\u001b[1;33m=\u001b[0m\u001b[0mStudents\u001b[0m\u001b[1;33m(\u001b[0m\u001b[1;34m\"Jack\"\u001b[0m\u001b[1;33m,\u001b[0m\u001b[1;36m16\u001b[0m\u001b[1;33m)\u001b[0m\u001b[1;33m\u001b[0m\u001b[1;33m\u001b[0m\u001b[0m\n",
      "\u001b[1;31mNameError\u001b[0m: name 'self' is not defined"
     ]
    }
   ],
   "source": [
    "class Students:\n",
    "    university='ABC University'\n",
    "    def __init__(self, name, age):   ###Constructor\n",
    "        self.name = name \n",
    "        self.age = age\n",
    "        \n",
    "    def display(self):                               ##instance method\n",
    "        print(\"My Name is - \",self.name)\n",
    "        print(\"My Age is - \",self.age)               \n",
    "        \n",
    "        \n",
    "    @classmethod\n",
    "    def classmethods(cls):                             ##class method\n",
    "        print(\"I am from \",cls.university)\n",
    "        print(self.name)                               ## this statement throws an error , see below output\n",
    "               \n",
    "student3=Students(\"Jack\",16) \n",
    "student3.display()\n",
    "Students.classmethods()                                     \n"
   ]
  },
  {
   "cell_type": "code",
   "execution_count": null,
   "metadata": {},
   "outputs": [],
   "source": []
  },
  {
   "cell_type": "code",
   "execution_count": null,
   "metadata": {},
   "outputs": [],
   "source": []
  },
  {
   "cell_type": "code",
   "execution_count": 48,
   "metadata": {},
   "outputs": [
    {
     "name": "stdout",
     "output_type": "stream",
     "text": [
      "My Name is -  Michel\n",
      "My Age is -  22\n"
     ]
    }
   ],
   "source": [
    "from datetime import date \n",
    "class Students:\n",
    "    def __init__(self, name, age):   ###Constructor\n",
    "        self.name = name \n",
    "        self.age = age\n",
    "        \n",
    "    def display(self):                               ##instance method\n",
    "        print(\"My Name is - \",self.name)\n",
    "        print(\"My Age is - \",self.age)\n",
    "        \n",
    "    @classmethod\n",
    "    def calculateAgeFromBirthYear(cls, name, year):    ##class method\n",
    "        return cls(name, date.today().year - year)\n",
    "         \n",
    "                            \n",
    "student4=Students.calculateAgeFromBirthYear('Michel',1998)   ## Class method as factory method\n",
    "student4.display()"
   ]
  },
  {
   "cell_type": "code",
   "execution_count": 55,
   "metadata": {},
   "outputs": [
    {
     "name": "stdout",
     "output_type": "stream",
     "text": [
      "My Name is -  Enric\n",
      "My Age is -  17\n",
      "I am not an Adult\n",
      "True\n",
      "False\n"
     ]
    }
   ],
   "source": [
    "from datetime import date \n",
    "class Students:\n",
    "    \n",
    "    def __init__(self, name, age):   ###Constructor\n",
    "        self.name = name \n",
    "        self.age = age\n",
    "        \n",
    "    def display(self):                               ##instance method\n",
    "        print(\"My Name is - \",self.name)\n",
    "        print(\"My Age is - \",self.age)\n",
    "        if self.isAdult(self.age):                   ## Static method cam be called with self inside the class\n",
    "            print(\"I am an Adult\")\n",
    "        else:\n",
    "            print(\"I am not an Adult\")\n",
    "        \n",
    "        \n",
    "    @staticmethod                                   ##static method\n",
    "    def isAdult(age):\n",
    "        return age>18\n",
    "student5=Students(\"Enric\",17)\n",
    "student5.display()\n",
    "print(student5.isAdult(19))\n",
    "print(Students.isAdult(17))"
   ]
  },
  {
   "cell_type": "code",
   "execution_count": 60,
   "metadata": {},
   "outputs": [
    {
     "name": "stdout",
     "output_type": "stream",
     "text": [
      "Equal\n",
      "My Name is -  Nick\n",
      "My Age is -  18\n",
      "My BirtDate is -  15-12-2001\n"
     ]
    }
   ],
   "source": [
    "class Students:\n",
    "            \n",
    "    def __init__(self, name, age, birthdate):   ###Constructor\n",
    "        self.name = name \n",
    "        self.age = age\n",
    "        self.birthdate = birthdate\n",
    "    \n",
    "    def getBirtdate(self):\n",
    "        return self.birthdate\n",
    "        \n",
    "    def display(self):                               ##instance method\n",
    "        print(\"My Name is - \",self.name)\n",
    "        print(\"My Age is - \",self.age)\n",
    "        print(\"My BirtDate is - \",self.birthdate)\n",
    "\n",
    "    @staticmethod\n",
    "    def toDashDate(date):\n",
    "        return date.replace(\"/\", \"-\")\n",
    "\n",
    "student1 = Students(\"Nick\",18,\"15-12-2001\")\n",
    "dateFromDB = \"15/12/2001\"\n",
    "dateWithDash = Students.toDashDate(dateFromDB)\n",
    "\n",
    "if(student1.getBirtdate() == dateWithDash):\n",
    "    print(\"Equal\")\n",
    "    student1.display()\n",
    "else:\n",
    "    print(\"Unequal\")"
   ]
  },
  {
   "cell_type": "code",
   "execution_count": null,
   "metadata": {},
   "outputs": [],
   "source": []
  },
  {
   "cell_type": "code",
   "execution_count": null,
   "metadata": {},
   "outputs": [],
   "source": []
  },
  {
   "cell_type": "code",
   "execution_count": null,
   "metadata": {},
   "outputs": [],
   "source": []
  },
  {
   "cell_type": "code",
   "execution_count": null,
   "metadata": {},
   "outputs": [],
   "source": []
  },
  {
   "cell_type": "code",
   "execution_count": null,
   "metadata": {},
   "outputs": [],
   "source": []
  },
  {
   "cell_type": "code",
   "execution_count": null,
   "metadata": {},
   "outputs": [],
   "source": []
  },
  {
   "cell_type": "code",
   "execution_count": null,
   "metadata": {},
   "outputs": [],
   "source": []
  },
  {
   "cell_type": "code",
   "execution_count": null,
   "metadata": {},
   "outputs": [],
   "source": []
  },
  {
   "cell_type": "code",
   "execution_count": null,
   "metadata": {},
   "outputs": [],
   "source": []
  },
  {
   "cell_type": "code",
   "execution_count": null,
   "metadata": {},
   "outputs": [],
   "source": []
  },
  {
   "cell_type": "code",
   "execution_count": null,
   "metadata": {},
   "outputs": [],
   "source": []
  },
  {
   "cell_type": "code",
   "execution_count": 13,
   "metadata": {},
   "outputs": [
    {
     "name": "stdout",
     "output_type": "stream",
     "text": [
      "My name is -  Adam\n",
      "My age is -  15\n",
      "I am Adult -  False\n",
      "====================\n",
      "My name is -  Jon\n",
      "My age is -  24\n",
      "I am Adult -  True\n",
      "====================\n",
      "True\n"
     ]
    }
   ],
   "source": [
    "# Python program to demonstrate  \n",
    "# use of class method and static method. \n",
    "from datetime import date \n",
    "  \n",
    "class Person: \n",
    "    def __init__(self, name, age):   ###Constructor\n",
    "        self.name = name \n",
    "        self.age = age \n",
    "    \n",
    "    # an instance method to display person'name and age \n",
    "    def display(self):\n",
    "        print(\"My name is - \",self.name)\n",
    "        print(\"My age is - \",self.age)\n",
    "        print(\"I am Adult - \",self.isAdult(self.age)) ##Static method can be called with self instance variable inside the class\n",
    "        \n",
    "      \n",
    "    # a class method to create a Person object by birth year. \n",
    "    @classmethod\n",
    "    def fromBirthYear(cls, name, year): \n",
    "        return cls(name, date.today().year - year) \n",
    "      \n",
    "    # a static method to check if a Person is adult or not. \n",
    "    @staticmethod\n",
    "    def isAdult(age): \n",
    "        return age > 18\n",
    "  \n",
    "person1 = Person('Adam', 15)\n",
    "person1.display()           ##Static method\n",
    "print(\"=\"*20)\n",
    "person2 = Person.fromBirthYear('Jon', 1996)  ##Class method\n",
    "person2.display()  \n",
    "print(\"=\"*20)\n",
    "# print the result\n",
    "print(Person.isAdult(22))         ##Static method can be accessed with class name only outside the class"
   ]
  },
  {
   "cell_type": "markdown",
   "metadata": {},
   "source": [
    "## When to use class methods and when to use static methods..\n",
    "\n",
    "- Class methods are for when you need to have methods that aren't specific to any particular instance, but still involve the class in some way. The most interesting thing about them is that they can be overridden by subclasses, something that's simply not possible in Java's static methods or Python's module-level functions.If you have a class MyClass, and a module-level function that operates on MyClass (factory, dependency injection stub, etc), make it a classmethod. Then it'll be available to subclasses\n",
    "\n",
    "-  Static methods are great for utility functions, which perform a task in isolation. They don't need to (and cannot) access class data. They should be completely self-contained, and only work with data passed in as arguments. You may use a static method to add two numbers together, or print a given string.\n"
   ]
  },
  {
   "cell_type": "code",
   "execution_count": null,
   "metadata": {},
   "outputs": [],
   "source": []
  }
 ],
 "metadata": {
  "kernelspec": {
   "display_name": "Python 3",
   "language": "python",
   "name": "python3"
  },
  "language_info": {
   "codemirror_mode": {
    "name": "ipython",
    "version": 3
   },
   "file_extension": ".py",
   "mimetype": "text/x-python",
   "name": "python",
   "nbconvert_exporter": "python",
   "pygments_lexer": "ipython3",
   "version": "3.7.6"
  }
 },
 "nbformat": 4,
 "nbformat_minor": 4
}
